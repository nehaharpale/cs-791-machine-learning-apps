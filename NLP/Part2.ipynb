{
 "cells": [
  {
   "cell_type": "code",
   "execution_count": 1,
   "metadata": {},
   "outputs": [],
   "source": [
    "import pandas as pd\n",
    "from bs4 import BeautifulSoup\n",
    "import re\n",
    "from nltk.corpus import stopwords\n",
    "import nltk.data\n",
    "import logging\n",
    "from gensim.models import word2vec"
   ]
  },
  {
   "cell_type": "code",
   "execution_count": 2,
   "metadata": {},
   "outputs": [
    {
     "name": "stdout",
     "output_type": "stream",
     "text": [
      "Read 25000 labeled train reviews, 25000 labeled test reviews, and 50000 unlabeled reviews\n",
      "\n"
     ]
    }
   ],
   "source": [
    "# Read data from files \n",
    "train = pd.read_csv( \"labeledTrainData.tsv\", header=0, \n",
    " delimiter=\"\\t\", quoting=3 )\n",
    "test = pd.read_csv( \"testData.tsv\", header=0, delimiter=\"\\t\", quoting=3 )\n",
    "unlabeled_train = pd.read_csv( \"unlabeledTrainData.tsv\", header=0, \n",
    " delimiter=\"\\t\", quoting=3 )\n",
    "\n",
    "# Verify the number of reviews that were read (100,000 in total)\n",
    "print(\"Read %d labeled train reviews, %d labeled test reviews, \" \\\n",
    " \"and %d unlabeled reviews\\n\" % (train[\"review\"].size,  \n",
    " test[\"review\"].size, unlabeled_train[\"review\"].size ))"
   ]
  },
  {
   "cell_type": "code",
   "execution_count": 3,
   "metadata": {},
   "outputs": [],
   "source": [
    "def review_to_wordlist( review, remove_stopwords=False ):\n",
    "    # Function to convert a document to a sequence of words,\n",
    "    # optionally removing stop words.  Returns a list of words.\n",
    "    #\n",
    "    # 1. Remove HTML\n",
    "    review_text = BeautifulSoup(review).get_text()\n",
    "    #  \n",
    "    # 2. Remove non-letters\n",
    "    review_text = re.sub(\"[^a-zA-Z]\",\" \", review_text)\n",
    "    #\n",
    "    # 3. Convert words to lower case and split them\n",
    "    words = review_text.lower().split()\n",
    "    #\n",
    "    # 4. Optionally remove stop words (false by default)\n",
    "    if remove_stopwords:\n",
    "        stops = set(stopwords.words(\"english\"))\n",
    "        words = [w for w in words if not w in stops]\n",
    "    #\n",
    "    # 5. Return a list of words\n",
    "    return(words)"
   ]
  },
  {
   "cell_type": "code",
   "execution_count": 4,
   "metadata": {},
   "outputs": [
    {
     "name": "stderr",
     "output_type": "stream",
     "text": [
      "[nltk_data] Downloading package punkt to /home/nharpale/nltk_data...\n",
      "[nltk_data]   Package punkt is already up-to-date!\n"
     ]
    }
   ],
   "source": [
    " nltk.download('punkt')\n",
    "\n",
    "# Load the punkt tokenizer\n",
    "tokenizer = nltk.data.load('tokenizers/punkt/english.pickle')\n",
    "\n",
    "# Define a function to split a review into parsed sentences\n",
    "def review_to_sentences( review, tokenizer, remove_stopwords=False ):\n",
    "    # Function to split a review into parsed sentences. Returns a \n",
    "    # list of sentences, where each sentence is a list of words\n",
    "    #\n",
    "    # 1. Use the NLTK tokenizer to split the paragraph into sentences\n",
    "    raw_sentences = tokenizer.tokenize(review.strip())\n",
    "    #\n",
    "    # 2. Loop over each sentence\n",
    "    sentences = []\n",
    "    for raw_sentence in raw_sentences:\n",
    "        # If a sentence is empty, skip it\n",
    "        if len(raw_sentence) > 0:\n",
    "            # Otherwise, call review_to_wordlist to get a list of words\n",
    "            sentences.append( review_to_wordlist( raw_sentence, \\\n",
    "              remove_stopwords ))\n",
    "    #\n",
    "    # Return the list of sentences (each sentence is a list of words,\n",
    "    # so this returns a list of lists\n",
    "    return sentences"
   ]
  },
  {
   "cell_type": "code",
   "execution_count": 5,
   "metadata": {},
   "outputs": [
    {
     "name": "stdout",
     "output_type": "stream",
     "text": [
      "Parsing sentences from training set\n"
     ]
    },
    {
     "name": "stderr",
     "output_type": "stream",
     "text": [
      "/home/nharpale/PA1/myenv1/lib/python3.6/site-packages/bs4/__init__.py:272: UserWarning: \"b'.'\" looks like a filename, not markup. You should probably open this file and pass the filehandle into Beautiful Soup.\n",
      "  ' Beautiful Soup.' % markup)\n",
      "/home/nharpale/PA1/myenv1/lib/python3.6/site-packages/bs4/__init__.py:335: UserWarning: \"http://www.happierabroad.com\"\" looks like a URL. Beautiful Soup is not an HTTP client. You should probably use an HTTP client like requests to get the document behind the URL, and feed that document to Beautiful Soup.\n",
      "  ' that document to Beautiful Soup.' % decoded_markup\n"
     ]
    },
    {
     "name": "stdout",
     "output_type": "stream",
     "text": [
      "Parsing sentences from unlabeled set\n"
     ]
    },
    {
     "name": "stderr",
     "output_type": "stream",
     "text": [
      "/home/nharpale/PA1/myenv1/lib/python3.6/site-packages/bs4/__init__.py:335: UserWarning: \"http://www.archive.org/details/LovefromaStranger\"\" looks like a URL. Beautiful Soup is not an HTTP client. You should probably use an HTTP client like requests to get the document behind the URL, and feed that document to Beautiful Soup.\n",
      "  ' that document to Beautiful Soup.' % decoded_markup\n",
      "/home/nharpale/PA1/myenv1/lib/python3.6/site-packages/bs4/__init__.py:335: UserWarning: \"http://www.loosechangeguide.com/LooseChangeGuide.html\"\" looks like a URL. Beautiful Soup is not an HTTP client. You should probably use an HTTP client like requests to get the document behind the URL, and feed that document to Beautiful Soup.\n",
      "  ' that document to Beautiful Soup.' % decoded_markup\n",
      "/home/nharpale/PA1/myenv1/lib/python3.6/site-packages/bs4/__init__.py:335: UserWarning: \"http://www.msnbc.msn.com/id/4972055/site/newsweek/\"\" looks like a URL. Beautiful Soup is not an HTTP client. You should probably use an HTTP client like requests to get the document behind the URL, and feed that document to Beautiful Soup.\n",
      "  ' that document to Beautiful Soup.' % decoded_markup\n",
      "/home/nharpale/PA1/myenv1/lib/python3.6/site-packages/bs4/__init__.py:272: UserWarning: \"b'..'\" looks like a filename, not markup. You should probably open this file and pass the filehandle into Beautiful Soup.\n",
      "  ' Beautiful Soup.' % markup)\n",
      "/home/nharpale/PA1/myenv1/lib/python3.6/site-packages/bs4/__init__.py:335: UserWarning: \"http://www.youtube.com/watch?v=a0KSqelmgN8\"\" looks like a URL. Beautiful Soup is not an HTTP client. You should probably use an HTTP client like requests to get the document behind the URL, and feed that document to Beautiful Soup.\n",
      "  ' that document to Beautiful Soup.' % decoded_markup\n",
      "/home/nharpale/PA1/myenv1/lib/python3.6/site-packages/bs4/__init__.py:335: UserWarning: \"http://jake-weird.blogspot.com/2007/08/beneath.html\"\" looks like a URL. Beautiful Soup is not an HTTP client. You should probably use an HTTP client like requests to get the document behind the URL, and feed that document to Beautiful Soup.\n",
      "  ' that document to Beautiful Soup.' % decoded_markup\n"
     ]
    }
   ],
   "source": [
    "sentences = []  # Initialize an empty list of sentences\n",
    "\n",
    "print(\"Parsing sentences from training set\")\n",
    "for review in train[\"review\"]:\n",
    "    sentences += review_to_sentences(review, tokenizer)\n",
    "\n",
    "print(\"Parsing sentences from unlabeled set\")\n",
    "for review in unlabeled_train[\"review\"]:\n",
    "    sentences += review_to_sentences(review, tokenizer)"
   ]
  },
  {
   "cell_type": "code",
   "execution_count": 6,
   "metadata": {},
   "outputs": [
    {
     "name": "stdout",
     "output_type": "stream",
     "text": [
      "795538\n"
     ]
    }
   ],
   "source": [
    " print(len(sentences))"
   ]
  },
  {
   "cell_type": "code",
   "execution_count": 7,
   "metadata": {},
   "outputs": [
    {
     "name": "stdout",
     "output_type": "stream",
     "text": [
      "['with', 'all', 'this', 'stuff', 'going', 'down', 'at', 'the', 'moment', 'with', 'mj', 'i', 've', 'started', 'listening', 'to', 'his', 'music', 'watching', 'the', 'odd', 'documentary', 'here', 'and', 'there', 'watched', 'the', 'wiz', 'and', 'watched', 'moonwalker', 'again']\n",
      "['maybe', 'i', 'just', 'want', 'to', 'get', 'a', 'certain', 'insight', 'into', 'this', 'guy', 'who', 'i', 'thought', 'was', 'really', 'cool', 'in', 'the', 'eighties', 'just', 'to', 'maybe', 'make', 'up', 'my', 'mind', 'whether', 'he', 'is', 'guilty', 'or', 'innocent']\n"
     ]
    }
   ],
   "source": [
    "print(sentences[0])\n",
    "print(sentences[1])"
   ]
  },
  {
   "cell_type": "code",
   "execution_count": 8,
   "metadata": {},
   "outputs": [
    {
     "name": "stderr",
     "output_type": "stream",
     "text": [
      "2019-02-22 22:59:11,702 : INFO : collecting all words and their counts\n",
      "2019-02-22 22:59:11,703 : INFO : PROGRESS: at sentence #0, processed 0 words, keeping 0 word types\n",
      "2019-02-22 22:59:11,747 : INFO : PROGRESS: at sentence #10000, processed 225803 words, keeping 17776 word types\n",
      "2019-02-22 22:59:11,796 : INFO : PROGRESS: at sentence #20000, processed 451892 words, keeping 24948 word types\n",
      "2019-02-22 22:59:11,844 : INFO : PROGRESS: at sentence #30000, processed 671314 words, keeping 30034 word types\n",
      "2019-02-22 22:59:11,894 : INFO : PROGRESS: at sentence #40000, processed 897814 words, keeping 34348 word types\n"
     ]
    },
    {
     "name": "stdout",
     "output_type": "stream",
     "text": [
      "Training model...\n"
     ]
    },
    {
     "name": "stderr",
     "output_type": "stream",
     "text": [
      "2019-02-22 22:59:11,939 : INFO : PROGRESS: at sentence #50000, processed 1116962 words, keeping 37761 word types\n",
      "2019-02-22 22:59:11,981 : INFO : PROGRESS: at sentence #60000, processed 1338403 words, keeping 40723 word types\n",
      "2019-02-22 22:59:12,024 : INFO : PROGRESS: at sentence #70000, processed 1561579 words, keeping 43333 word types\n",
      "2019-02-22 22:59:12,068 : INFO : PROGRESS: at sentence #80000, processed 1780886 words, keeping 45714 word types\n",
      "2019-02-22 22:59:12,111 : INFO : PROGRESS: at sentence #90000, processed 2004995 words, keeping 48135 word types\n",
      "2019-02-22 22:59:12,154 : INFO : PROGRESS: at sentence #100000, processed 2226966 words, keeping 50207 word types\n",
      "2019-02-22 22:59:12,197 : INFO : PROGRESS: at sentence #110000, processed 2446580 words, keeping 52081 word types\n",
      "2019-02-22 22:59:12,240 : INFO : PROGRESS: at sentence #120000, processed 2668775 words, keeping 54119 word types\n",
      "2019-02-22 22:59:12,284 : INFO : PROGRESS: at sentence #130000, processed 2894303 words, keeping 55847 word types\n",
      "2019-02-22 22:59:12,326 : INFO : PROGRESS: at sentence #140000, processed 3107005 words, keeping 57346 word types\n",
      "2019-02-22 22:59:12,370 : INFO : PROGRESS: at sentence #150000, processed 3332627 words, keeping 59055 word types\n",
      "2019-02-22 22:59:12,413 : INFO : PROGRESS: at sentence #160000, processed 3555315 words, keeping 60617 word types\n",
      "2019-02-22 22:59:12,457 : INFO : PROGRESS: at sentence #170000, processed 3778655 words, keeping 62077 word types\n",
      "2019-02-22 22:59:12,500 : INFO : PROGRESS: at sentence #180000, processed 3999236 words, keeping 63496 word types\n",
      "2019-02-22 22:59:12,543 : INFO : PROGRESS: at sentence #190000, processed 4224449 words, keeping 64794 word types\n",
      "2019-02-22 22:59:12,587 : INFO : PROGRESS: at sentence #200000, processed 4448603 words, keeping 66087 word types\n",
      "2019-02-22 22:59:12,631 : INFO : PROGRESS: at sentence #210000, processed 4669967 words, keeping 67390 word types\n",
      "2019-02-22 22:59:12,675 : INFO : PROGRESS: at sentence #220000, processed 4894968 words, keeping 68697 word types\n",
      "2019-02-22 22:59:12,718 : INFO : PROGRESS: at sentence #230000, processed 5117546 words, keeping 69958 word types\n",
      "2019-02-22 22:59:12,763 : INFO : PROGRESS: at sentence #240000, processed 5345051 words, keeping 71167 word types\n",
      "2019-02-22 22:59:12,805 : INFO : PROGRESS: at sentence #250000, processed 5559166 words, keeping 72351 word types\n",
      "2019-02-22 22:59:12,849 : INFO : PROGRESS: at sentence #260000, processed 5779147 words, keeping 73478 word types\n",
      "2019-02-22 22:59:12,892 : INFO : PROGRESS: at sentence #270000, processed 6000436 words, keeping 74767 word types\n",
      "2019-02-22 22:59:12,936 : INFO : PROGRESS: at sentence #280000, processed 6226315 words, keeping 76369 word types\n",
      "2019-02-22 22:59:12,981 : INFO : PROGRESS: at sentence #290000, processed 6449475 words, keeping 77839 word types\n",
      "2019-02-22 22:59:13,025 : INFO : PROGRESS: at sentence #300000, processed 6674078 words, keeping 79171 word types\n",
      "2019-02-22 22:59:13,070 : INFO : PROGRESS: at sentence #310000, processed 6899392 words, keeping 80480 word types\n",
      "2019-02-22 22:59:13,115 : INFO : PROGRESS: at sentence #320000, processed 7124279 words, keeping 81808 word types\n",
      "2019-02-22 22:59:13,159 : INFO : PROGRESS: at sentence #330000, processed 7346022 words, keeping 83030 word types\n",
      "2019-02-22 22:59:13,204 : INFO : PROGRESS: at sentence #340000, processed 7575534 words, keeping 84280 word types\n",
      "2019-02-22 22:59:13,248 : INFO : PROGRESS: at sentence #350000, processed 7798804 words, keeping 85425 word types\n",
      "2019-02-22 22:59:13,293 : INFO : PROGRESS: at sentence #360000, processed 8019467 words, keeping 86596 word types\n",
      "2019-02-22 22:59:13,341 : INFO : PROGRESS: at sentence #370000, processed 8246659 words, keeping 87708 word types\n",
      "2019-02-22 22:59:13,386 : INFO : PROGRESS: at sentence #380000, processed 8471806 words, keeping 88878 word types\n",
      "2019-02-22 22:59:13,438 : INFO : PROGRESS: at sentence #390000, processed 8701556 words, keeping 89907 word types\n",
      "2019-02-22 22:59:13,487 : INFO : PROGRESS: at sentence #400000, processed 8924505 words, keeping 90916 word types\n",
      "2019-02-22 22:59:13,537 : INFO : PROGRESS: at sentence #410000, processed 9145855 words, keeping 91880 word types\n",
      "2019-02-22 22:59:13,581 : INFO : PROGRESS: at sentence #420000, processed 9366935 words, keeping 92912 word types\n",
      "2019-02-22 22:59:13,627 : INFO : PROGRESS: at sentence #430000, processed 9594472 words, keeping 93932 word types\n",
      "2019-02-22 22:59:13,672 : INFO : PROGRESS: at sentence #440000, processed 9821225 words, keeping 94906 word types\n",
      "2019-02-22 22:59:13,717 : INFO : PROGRESS: at sentence #450000, processed 10044987 words, keeping 96036 word types\n",
      "2019-02-22 22:59:13,763 : INFO : PROGRESS: at sentence #460000, processed 10277747 words, keeping 97088 word types\n",
      "2019-02-22 22:59:13,808 : INFO : PROGRESS: at sentence #470000, processed 10505672 words, keeping 97933 word types\n",
      "2019-02-22 22:59:13,852 : INFO : PROGRESS: at sentence #480000, processed 10726056 words, keeping 98862 word types\n",
      "2019-02-22 22:59:13,897 : INFO : PROGRESS: at sentence #490000, processed 10952800 words, keeping 99871 word types\n",
      "2019-02-22 22:59:13,941 : INFO : PROGRESS: at sentence #500000, processed 11174456 words, keeping 100765 word types\n",
      "2019-02-22 22:59:13,986 : INFO : PROGRESS: at sentence #510000, processed 11399731 words, keeping 101699 word types\n",
      "2019-02-22 22:59:14,030 : INFO : PROGRESS: at sentence #520000, processed 11623082 words, keeping 102598 word types\n",
      "2019-02-22 22:59:14,075 : INFO : PROGRESS: at sentence #530000, processed 11847480 words, keeping 103400 word types\n",
      "2019-02-22 22:59:14,119 : INFO : PROGRESS: at sentence #540000, processed 12072095 words, keeping 104265 word types\n",
      "2019-02-22 22:59:14,164 : INFO : PROGRESS: at sentence #550000, processed 12297646 words, keeping 105133 word types\n",
      "2019-02-22 22:59:14,208 : INFO : PROGRESS: at sentence #560000, processed 12518936 words, keeping 105997 word types\n",
      "2019-02-22 22:59:14,253 : INFO : PROGRESS: at sentence #570000, processed 12748083 words, keeping 106787 word types\n",
      "2019-02-22 22:59:14,298 : INFO : PROGRESS: at sentence #580000, processed 12969579 words, keeping 107665 word types\n",
      "2019-02-22 22:59:14,343 : INFO : PROGRESS: at sentence #590000, processed 13195103 words, keeping 108502 word types\n",
      "2019-02-22 22:59:14,388 : INFO : PROGRESS: at sentence #600000, processed 13417301 words, keeping 109219 word types\n",
      "2019-02-22 22:59:14,432 : INFO : PROGRESS: at sentence #610000, processed 13638324 words, keeping 110093 word types\n",
      "2019-02-22 22:59:14,478 : INFO : PROGRESS: at sentence #620000, processed 13864649 words, keeping 110838 word types\n",
      "2019-02-22 22:59:14,522 : INFO : PROGRESS: at sentence #630000, processed 14088935 words, keeping 111611 word types\n",
      "2019-02-22 22:59:14,567 : INFO : PROGRESS: at sentence #640000, processed 14309718 words, keeping 112417 word types\n",
      "2019-02-22 22:59:14,612 : INFO : PROGRESS: at sentence #650000, processed 14535474 words, keeping 113197 word types\n",
      "2019-02-22 22:59:14,657 : INFO : PROGRESS: at sentence #660000, processed 14758264 words, keeping 113946 word types\n",
      "2019-02-22 22:59:14,702 : INFO : PROGRESS: at sentence #670000, processed 14981657 words, keeping 114644 word types\n",
      "2019-02-22 22:59:14,748 : INFO : PROGRESS: at sentence #680000, processed 15206489 words, keeping 115355 word types\n",
      "2019-02-22 22:59:14,792 : INFO : PROGRESS: at sentence #690000, processed 15428682 words, keeping 116132 word types\n",
      "2019-02-22 22:59:14,838 : INFO : PROGRESS: at sentence #700000, processed 15657388 words, keeping 116944 word types\n",
      "2019-02-22 22:59:14,883 : INFO : PROGRESS: at sentence #710000, processed 15880377 words, keeping 117597 word types\n",
      "2019-02-22 22:59:14,928 : INFO : PROGRESS: at sentence #720000, processed 16105664 words, keeping 118222 word types\n",
      "2019-02-22 22:59:14,973 : INFO : PROGRESS: at sentence #730000, processed 16332045 words, keeping 118955 word types\n",
      "2019-02-22 22:59:15,017 : INFO : PROGRESS: at sentence #740000, processed 16553078 words, keeping 119669 word types\n",
      "2019-02-22 22:59:15,061 : INFO : PROGRESS: at sentence #750000, processed 16771405 words, keeping 120296 word types\n",
      "2019-02-22 22:59:15,105 : INFO : PROGRESS: at sentence #760000, processed 16990809 words, keeping 120931 word types\n"
     ]
    },
    {
     "name": "stderr",
     "output_type": "stream",
     "text": [
      "2019-02-22 22:59:15,150 : INFO : PROGRESS: at sentence #770000, processed 17217946 words, keeping 121704 word types\n",
      "2019-02-22 22:59:15,196 : INFO : PROGRESS: at sentence #780000, processed 17448092 words, keeping 122403 word types\n",
      "2019-02-22 22:59:15,241 : INFO : PROGRESS: at sentence #790000, processed 17675168 words, keeping 123067 word types\n",
      "2019-02-22 22:59:15,266 : INFO : collected 123505 word types from a corpus of 17798269 raw words and 795538 sentences\n",
      "2019-02-22 22:59:15,267 : INFO : Loading a fresh vocabulary\n",
      "2019-02-22 22:59:15,328 : INFO : effective_min_count=40 retains 16490 unique words (13% of original 123505, drops 107015)\n",
      "2019-02-22 22:59:15,329 : INFO : effective_min_count=40 leaves 17239123 word corpus (96% of original 17798269, drops 559146)\n",
      "2019-02-22 22:59:15,373 : INFO : deleting the raw counts dictionary of 123505 items\n",
      "2019-02-22 22:59:15,378 : INFO : sample=0.001 downsamples 48 most-common words\n",
      "2019-02-22 22:59:15,378 : INFO : downsampling leaves estimated 12749797 word corpus (74.0% of prior 17239123)\n",
      "2019-02-22 22:59:15,410 : INFO : estimated required memory for 16490 words and 300 dimensions: 47821000 bytes\n",
      "2019-02-22 22:59:15,411 : INFO : resetting layer weights\n",
      "2019-02-22 22:59:15,629 : INFO : training model with 4 workers on 16490 vocabulary and 300 features, using sg=0 hs=0 sample=0.001 negative=5 window=10\n",
      "2019-02-22 22:59:16,647 : INFO : EPOCH 1 - PROGRESS: at 7.71% examples, 973497 words/s, in_qsize 7, out_qsize 0\n",
      "2019-02-22 22:59:17,656 : INFO : EPOCH 1 - PROGRESS: at 15.56% examples, 979766 words/s, in_qsize 7, out_qsize 0\n",
      "2019-02-22 22:59:18,659 : INFO : EPOCH 1 - PROGRESS: at 23.48% examples, 985879 words/s, in_qsize 7, out_qsize 0\n",
      "2019-02-22 22:59:19,661 : INFO : EPOCH 1 - PROGRESS: at 31.37% examples, 988861 words/s, in_qsize 8, out_qsize 0\n",
      "2019-02-22 22:59:20,669 : INFO : EPOCH 1 - PROGRESS: at 39.31% examples, 991109 words/s, in_qsize 7, out_qsize 0\n",
      "2019-02-22 22:59:21,670 : INFO : EPOCH 1 - PROGRESS: at 47.10% examples, 992798 words/s, in_qsize 7, out_qsize 0\n",
      "2019-02-22 22:59:22,675 : INFO : EPOCH 1 - PROGRESS: at 54.99% examples, 994222 words/s, in_qsize 7, out_qsize 0\n",
      "2019-02-22 22:59:23,679 : INFO : EPOCH 1 - PROGRESS: at 62.82% examples, 995348 words/s, in_qsize 7, out_qsize 0\n",
      "2019-02-22 22:59:24,687 : INFO : EPOCH 1 - PROGRESS: at 70.77% examples, 996829 words/s, in_qsize 7, out_qsize 0\n",
      "2019-02-22 22:59:25,688 : INFO : EPOCH 1 - PROGRESS: at 78.49% examples, 995755 words/s, in_qsize 7, out_qsize 0\n",
      "2019-02-22 22:59:26,696 : INFO : EPOCH 1 - PROGRESS: at 86.42% examples, 996176 words/s, in_qsize 7, out_qsize 0\n",
      "2019-02-22 22:59:27,698 : INFO : EPOCH 1 - PROGRESS: at 94.32% examples, 997055 words/s, in_qsize 7, out_qsize 0\n",
      "2019-02-22 22:59:28,402 : INFO : worker thread finished; awaiting finish of 3 more threads\n",
      "2019-02-22 22:59:28,408 : INFO : worker thread finished; awaiting finish of 2 more threads\n",
      "2019-02-22 22:59:28,412 : INFO : worker thread finished; awaiting finish of 1 more threads\n",
      "2019-02-22 22:59:28,413 : INFO : worker thread finished; awaiting finish of 0 more threads\n",
      "2019-02-22 22:59:28,414 : INFO : EPOCH - 1 : training on 17798269 raw words (12750473 effective words) took 12.8s, 998208 effective words/s\n",
      "2019-02-22 22:59:29,439 : INFO : EPOCH 2 - PROGRESS: at 7.48% examples, 944641 words/s, in_qsize 8, out_qsize 0\n",
      "2019-02-22 22:59:30,448 : INFO : EPOCH 2 - PROGRESS: at 15.45% examples, 972556 words/s, in_qsize 7, out_qsize 0\n",
      "2019-02-22 22:59:31,449 : INFO : EPOCH 2 - PROGRESS: at 23.43% examples, 983812 words/s, in_qsize 8, out_qsize 0\n",
      "2019-02-22 22:59:32,455 : INFO : EPOCH 2 - PROGRESS: at 31.43% examples, 989954 words/s, in_qsize 8, out_qsize 0\n",
      "2019-02-22 22:59:33,456 : INFO : EPOCH 2 - PROGRESS: at 39.25% examples, 990597 words/s, in_qsize 7, out_qsize 0\n",
      "2019-02-22 22:59:34,460 : INFO : EPOCH 2 - PROGRESS: at 46.99% examples, 990312 words/s, in_qsize 7, out_qsize 0\n",
      "2019-02-22 22:59:35,466 : INFO : EPOCH 2 - PROGRESS: at 54.87% examples, 992146 words/s, in_qsize 7, out_qsize 0\n",
      "2019-02-22 22:59:36,466 : INFO : EPOCH 2 - PROGRESS: at 62.60% examples, 992107 words/s, in_qsize 7, out_qsize 0\n",
      "2019-02-22 22:59:37,474 : INFO : EPOCH 2 - PROGRESS: at 70.39% examples, 991514 words/s, in_qsize 7, out_qsize 0\n",
      "2019-02-22 22:59:38,474 : INFO : EPOCH 2 - PROGRESS: at 78.10% examples, 991066 words/s, in_qsize 8, out_qsize 1\n",
      "2019-02-22 22:59:39,475 : INFO : EPOCH 2 - PROGRESS: at 85.85% examples, 990625 words/s, in_qsize 7, out_qsize 0\n",
      "2019-02-22 22:59:40,477 : INFO : EPOCH 2 - PROGRESS: at 93.68% examples, 991374 words/s, in_qsize 7, out_qsize 0\n",
      "2019-02-22 22:59:41,263 : INFO : worker thread finished; awaiting finish of 3 more threads\n",
      "2019-02-22 22:59:41,269 : INFO : worker thread finished; awaiting finish of 2 more threads\n",
      "2019-02-22 22:59:41,272 : INFO : worker thread finished; awaiting finish of 1 more threads\n",
      "2019-02-22 22:59:41,274 : INFO : worker thread finished; awaiting finish of 0 more threads\n",
      "2019-02-22 22:59:41,275 : INFO : EPOCH - 2 : training on 17798269 raw words (12748701 effective words) took 12.8s, 992710 effective words/s\n",
      "2019-02-22 22:59:42,286 : INFO : EPOCH 3 - PROGRESS: at 7.48% examples, 945487 words/s, in_qsize 7, out_qsize 0\n",
      "2019-02-22 22:59:43,289 : INFO : EPOCH 3 - PROGRESS: at 15.45% examples, 976179 words/s, in_qsize 7, out_qsize 0\n",
      "2019-02-22 22:59:44,300 : INFO : EPOCH 3 - PROGRESS: at 23.48% examples, 985608 words/s, in_qsize 7, out_qsize 0\n",
      "2019-02-22 22:59:45,300 : INFO : EPOCH 3 - PROGRESS: at 31.43% examples, 990992 words/s, in_qsize 7, out_qsize 0\n",
      "2019-02-22 22:59:46,302 : INFO : EPOCH 3 - PROGRESS: at 39.25% examples, 991219 words/s, in_qsize 7, out_qsize 0\n",
      "2019-02-22 22:59:47,303 : INFO : EPOCH 3 - PROGRESS: at 46.99% examples, 991426 words/s, in_qsize 7, out_qsize 0\n",
      "2019-02-22 22:59:48,307 : INFO : EPOCH 3 - PROGRESS: at 54.81% examples, 992225 words/s, in_qsize 7, out_qsize 0\n",
      "2019-02-22 22:59:49,308 : INFO : EPOCH 3 - PROGRESS: at 62.54% examples, 992273 words/s, in_qsize 7, out_qsize 0\n",
      "2019-02-22 22:59:50,310 : INFO : EPOCH 3 - PROGRESS: at 70.39% examples, 993178 words/s, in_qsize 7, out_qsize 0\n",
      "2019-02-22 22:59:51,314 : INFO : EPOCH 3 - PROGRESS: at 78.26% examples, 994325 words/s, in_qsize 7, out_qsize 0\n",
      "2019-02-22 22:59:52,320 : INFO : EPOCH 3 - PROGRESS: at 86.14% examples, 994392 words/s, in_qsize 7, out_qsize 0\n",
      "2019-02-22 22:59:53,332 : INFO : EPOCH 3 - PROGRESS: at 94.03% examples, 994571 words/s, in_qsize 7, out_qsize 0\n",
      "2019-02-22 22:59:54,069 : INFO : worker thread finished; awaiting finish of 3 more threads\n",
      "2019-02-22 22:59:54,074 : INFO : worker thread finished; awaiting finish of 2 more threads\n",
      "2019-02-22 22:59:54,080 : INFO : worker thread finished; awaiting finish of 1 more threads\n",
      "2019-02-22 22:59:54,082 : INFO : worker thread finished; awaiting finish of 0 more threads\n",
      "2019-02-22 22:59:54,083 : INFO : EPOCH - 3 : training on 17798269 raw words (12750265 effective words) took 12.8s, 995955 effective words/s\n",
      "2019-02-22 22:59:55,097 : INFO : EPOCH 4 - PROGRESS: at 7.42% examples, 939263 words/s, in_qsize 8, out_qsize 0\n",
      "2019-02-22 22:59:56,102 : INFO : EPOCH 4 - PROGRESS: at 15.45% examples, 975230 words/s, in_qsize 7, out_qsize 0\n",
      "2019-02-22 22:59:57,106 : INFO : EPOCH 4 - PROGRESS: at 23.43% examples, 984644 words/s, in_qsize 7, out_qsize 0\n",
      "2019-02-22 22:59:58,110 : INFO : EPOCH 4 - PROGRESS: at 31.43% examples, 991013 words/s, in_qsize 7, out_qsize 0\n",
      "2019-02-22 22:59:59,117 : INFO : EPOCH 4 - PROGRESS: at 39.25% examples, 990243 words/s, in_qsize 7, out_qsize 0\n",
      "2019-02-22 23:00:00,121 : INFO : EPOCH 4 - PROGRESS: at 46.88% examples, 987853 words/s, in_qsize 8, out_qsize 0\n",
      "2019-02-22 23:00:01,126 : INFO : EPOCH 4 - PROGRESS: at 54.59% examples, 986950 words/s, in_qsize 8, out_qsize 0\n",
      "2019-02-22 23:00:02,134 : INFO : EPOCH 4 - PROGRESS: at 62.43% examples, 988588 words/s, in_qsize 8, out_qsize 0\n",
      "2019-02-22 23:00:03,137 : INFO : EPOCH 4 - PROGRESS: at 70.22% examples, 988954 words/s, in_qsize 8, out_qsize 0\n",
      "2019-02-22 23:00:04,143 : INFO : EPOCH 4 - PROGRESS: at 78.05% examples, 989661 words/s, in_qsize 8, out_qsize 0\n",
      "2019-02-22 23:00:05,153 : INFO : EPOCH 4 - PROGRESS: at 85.63% examples, 986539 words/s, in_qsize 8, out_qsize 0\n",
      "2019-02-22 23:00:06,163 : INFO : EPOCH 4 - PROGRESS: at 93.57% examples, 988096 words/s, in_qsize 7, out_qsize 0\n"
     ]
    },
    {
     "name": "stderr",
     "output_type": "stream",
     "text": [
      "2019-02-22 23:00:06,953 : INFO : worker thread finished; awaiting finish of 3 more threads\n",
      "2019-02-22 23:00:06,956 : INFO : worker thread finished; awaiting finish of 2 more threads\n",
      "2019-02-22 23:00:06,968 : INFO : worker thread finished; awaiting finish of 1 more threads\n",
      "2019-02-22 23:00:06,970 : INFO : worker thread finished; awaiting finish of 0 more threads\n",
      "2019-02-22 23:00:06,971 : INFO : EPOCH - 4 : training on 17798269 raw words (12749677 effective words) took 12.9s, 989967 effective words/s\n",
      "2019-02-22 23:00:07,981 : INFO : EPOCH 5 - PROGRESS: at 7.66% examples, 969762 words/s, in_qsize 8, out_qsize 0\n",
      "2019-02-22 23:00:08,993 : INFO : EPOCH 5 - PROGRESS: at 15.62% examples, 983289 words/s, in_qsize 8, out_qsize 0\n",
      "2019-02-22 23:00:09,995 : INFO : EPOCH 5 - PROGRESS: at 23.43% examples, 983654 words/s, in_qsize 7, out_qsize 0\n",
      "2019-02-22 23:00:10,996 : INFO : EPOCH 5 - PROGRESS: at 31.26% examples, 985726 words/s, in_qsize 8, out_qsize 0\n",
      "2019-02-22 23:00:12,000 : INFO : EPOCH 5 - PROGRESS: at 39.07% examples, 986533 words/s, in_qsize 8, out_qsize 0\n",
      "2019-02-22 23:00:13,004 : INFO : EPOCH 5 - PROGRESS: at 46.88% examples, 988206 words/s, in_qsize 7, out_qsize 0\n",
      "2019-02-22 23:00:14,009 : INFO : EPOCH 5 - PROGRESS: at 54.54% examples, 986366 words/s, in_qsize 7, out_qsize 0\n",
      "2019-02-22 23:00:15,015 : INFO : EPOCH 5 - PROGRESS: at 62.30% examples, 987310 words/s, in_qsize 7, out_qsize 0\n",
      "2019-02-22 23:00:16,015 : INFO : EPOCH 5 - PROGRESS: at 70.16% examples, 988926 words/s, in_qsize 7, out_qsize 0\n",
      "2019-02-22 23:00:17,022 : INFO : EPOCH 5 - PROGRESS: at 78.10% examples, 990910 words/s, in_qsize 7, out_qsize 0\n",
      "2019-02-22 23:00:18,035 : INFO : EPOCH 5 - PROGRESS: at 86.02% examples, 991317 words/s, in_qsize 7, out_qsize 0\n",
      "2019-02-22 23:00:19,036 : INFO : EPOCH 5 - PROGRESS: at 93.91% examples, 992686 words/s, in_qsize 7, out_qsize 0\n",
      "2019-02-22 23:00:19,790 : INFO : worker thread finished; awaiting finish of 3 more threads\n",
      "2019-02-22 23:00:19,796 : INFO : worker thread finished; awaiting finish of 2 more threads\n",
      "2019-02-22 23:00:19,800 : INFO : worker thread finished; awaiting finish of 1 more threads\n",
      "2019-02-22 23:00:19,809 : INFO : worker thread finished; awaiting finish of 0 more threads\n",
      "2019-02-22 23:00:19,810 : INFO : EPOCH - 5 : training on 17798269 raw words (12747474 effective words) took 12.8s, 993544 effective words/s\n",
      "2019-02-22 23:00:19,810 : INFO : training on a 88991345 raw words (63746590 effective words) took 64.2s, 993241 effective words/s\n",
      "2019-02-22 23:00:19,811 : INFO : precomputing L2-norms of word weight vectors\n",
      "2019-02-22 23:00:19,832 : INFO : saving Word2Vec object under 300features_40minwords_10context, separately None\n",
      "2019-02-22 23:00:19,833 : INFO : not storing attribute vectors_norm\n",
      "2019-02-22 23:00:19,834 : INFO : not storing attribute cum_table\n",
      "2019-02-22 23:00:20,211 : INFO : saved 300features_40minwords_10context\n"
     ]
    }
   ],
   "source": [
    "# Import the built-in logging module and configure it so that Word2Vec \n",
    "# creates nice output messages\n",
    "logging.basicConfig(format='%(asctime)s : %(levelname)s : %(message)s',\\\n",
    "    level=logging.INFO)\n",
    "\n",
    "# Set values for various parameters\n",
    "num_features = 300    # Word vector dimensionality                      \n",
    "min_word_count = 40   # Minimum word count                        \n",
    "num_workers = 4       # Number of threads to run in parallel\n",
    "context = 10          # Context window size                                                                                    \n",
    "downsampling = 1e-3   # Downsample setting for frequent words\n",
    "\n",
    "# Initialize and train the model (this will take some time)\n",
    "\n",
    "print(\"Training model...\")\n",
    "model = word2vec.Word2Vec(sentences, workers=num_workers, \\\n",
    "            size=num_features, min_count = min_word_count, \\\n",
    "            window = context, sample = downsampling)\n",
    "\n",
    "# If you don't plan to train the model any further, calling \n",
    "# init_sims will make the model much more memory-efficient.\n",
    "model.init_sims(replace=True)\n",
    "\n",
    "# It can be helpful to create a meaningful model name and \n",
    "# save the model for later use. You can load it later using Word2Vec.load()\n",
    "model_name = \"300features_40minwords_10context\"\n",
    "model.save(model_name)"
   ]
  },
  {
   "cell_type": "code",
   "execution_count": 9,
   "metadata": {},
   "outputs": [
    {
     "name": "stderr",
     "output_type": "stream",
     "text": [
      "/home/nharpale/PA1/myenv1/lib/python3.6/site-packages/ipykernel_launcher.py:1: DeprecationWarning: Call to deprecated `doesnt_match` (Method will be removed in 4.0.0, use self.wv.doesnt_match() instead).\n",
      "  \"\"\"Entry point for launching an IPython kernel.\n",
      "/home/nharpale/PA1/myenv1/lib/python3.6/site-packages/gensim/models/keyedvectors.py:858: FutureWarning: arrays to stack must be passed as a \"sequence\" type such as list or tuple. Support for non-sequence iterables such as generators is deprecated as of NumPy 1.16 and will raise an error in the future.\n",
      "  vectors = vstack(self.word_vec(word, use_norm=True) for word in used_words).astype(REAL)\n"
     ]
    },
    {
     "data": {
      "text/plain": [
       "'kitchen'"
      ]
     },
     "execution_count": 9,
     "metadata": {},
     "output_type": "execute_result"
    }
   ],
   "source": [
    "model.doesnt_match(\"man woman child kitchen\".split())"
   ]
  },
  {
   "cell_type": "code",
   "execution_count": 10,
   "metadata": {},
   "outputs": [
    {
     "name": "stderr",
     "output_type": "stream",
     "text": [
      "/home/nharpale/PA1/myenv1/lib/python3.6/site-packages/ipykernel_launcher.py:1: DeprecationWarning: Call to deprecated `doesnt_match` (Method will be removed in 4.0.0, use self.wv.doesnt_match() instead).\n",
      "  \"\"\"Entry point for launching an IPython kernel.\n"
     ]
    },
    {
     "data": {
      "text/plain": [
       "'berlin'"
      ]
     },
     "execution_count": 10,
     "metadata": {},
     "output_type": "execute_result"
    }
   ],
   "source": [
    "model.doesnt_match(\"france england germany berlin\".split())"
   ]
  },
  {
   "cell_type": "code",
   "execution_count": 11,
   "metadata": {},
   "outputs": [
    {
     "name": "stderr",
     "output_type": "stream",
     "text": [
      "/home/nharpale/PA1/myenv1/lib/python3.6/site-packages/ipykernel_launcher.py:1: DeprecationWarning: Call to deprecated `doesnt_match` (Method will be removed in 4.0.0, use self.wv.doesnt_match() instead).\n",
      "  \"\"\"Entry point for launching an IPython kernel.\n"
     ]
    },
    {
     "data": {
      "text/plain": [
       "'berlin'"
      ]
     },
     "execution_count": 11,
     "metadata": {},
     "output_type": "execute_result"
    }
   ],
   "source": [
    "model.doesnt_match(\"paris berlin london austria\".split())"
   ]
  },
  {
   "cell_type": "code",
   "execution_count": 12,
   "metadata": {},
   "outputs": [
    {
     "name": "stderr",
     "output_type": "stream",
     "text": [
      "/home/nharpale/PA1/myenv1/lib/python3.6/site-packages/ipykernel_launcher.py:1: DeprecationWarning: Call to deprecated `most_similar` (Method will be removed in 4.0.0, use self.wv.most_similar() instead).\n",
      "  \"\"\"Entry point for launching an IPython kernel.\n"
     ]
    },
    {
     "data": {
      "text/plain": [
       "[('woman', 0.6283491253852844),\n",
       " ('lady', 0.6065947413444519),\n",
       " ('lad', 0.5885618925094604),\n",
       " ('millionaire', 0.5374081134796143),\n",
       " ('monk', 0.537163496017456),\n",
       " ('farmer', 0.5232622623443604),\n",
       " ('men', 0.5139851570129395),\n",
       " ('businessman', 0.5135544538497925),\n",
       " ('person', 0.5050943493843079),\n",
       " ('boy', 0.5006979703903198)]"
      ]
     },
     "execution_count": 12,
     "metadata": {},
     "output_type": "execute_result"
    }
   ],
   "source": [
    "model.most_similar(\"man\")"
   ]
  },
  {
   "cell_type": "code",
   "execution_count": 13,
   "metadata": {},
   "outputs": [
    {
     "name": "stderr",
     "output_type": "stream",
     "text": [
      "/home/nharpale/PA1/myenv1/lib/python3.6/site-packages/ipykernel_launcher.py:1: DeprecationWarning: Call to deprecated `most_similar` (Method will be removed in 4.0.0, use self.wv.most_similar() instead).\n",
      "  \"\"\"Entry point for launching an IPython kernel.\n"
     ]
    },
    {
     "data": {
      "text/plain": [
       "[('princess', 0.6832795739173889),\n",
       " ('bride', 0.6255319714546204),\n",
       " ('belle', 0.6147541999816895),\n",
       " ('maid', 0.6069222688674927),\n",
       " ('eva', 0.5902668237686157),\n",
       " ('victoria', 0.5833011865615845),\n",
       " ('latifah', 0.5822697877883911),\n",
       " ('mistress', 0.582189679145813),\n",
       " ('duchess', 0.5802056789398193),\n",
       " ('goddess', 0.5793904066085815)]"
      ]
     },
     "execution_count": 13,
     "metadata": {},
     "output_type": "execute_result"
    }
   ],
   "source": [
    "model.most_similar(\"queen\")"
   ]
  },
  {
   "cell_type": "code",
   "execution_count": 14,
   "metadata": {},
   "outputs": [
    {
     "name": "stderr",
     "output_type": "stream",
     "text": [
      "/home/nharpale/PA1/myenv1/lib/python3.6/site-packages/ipykernel_launcher.py:1: DeprecationWarning: Call to deprecated `most_similar` (Method will be removed in 4.0.0, use self.wv.most_similar() instead).\n",
      "  \"\"\"Entry point for launching an IPython kernel.\n"
     ]
    },
    {
     "data": {
      "text/plain": [
       "[('terrible', 0.7702475786209106),\n",
       " ('horrible', 0.7318698167800903),\n",
       " ('atrocious', 0.7288468480110168),\n",
       " ('abysmal', 0.7017455697059631),\n",
       " ('dreadful', 0.6945229768753052),\n",
       " ('horrendous', 0.6807694435119629),\n",
       " ('horrid', 0.6747561693191528),\n",
       " ('appalling', 0.6658003330230713),\n",
       " ('lousy', 0.622587263584137),\n",
       " ('amateurish', 0.6204423308372498)]"
      ]
     },
     "execution_count": 14,
     "metadata": {},
     "output_type": "execute_result"
    }
   ],
   "source": [
    "model.most_similar(\"awful\")"
   ]
  },
  {
   "cell_type": "code",
   "execution_count": null,
   "metadata": {},
   "outputs": [],
   "source": []
  },
  {
   "cell_type": "code",
   "execution_count": null,
   "metadata": {},
   "outputs": [],
   "source": []
  }
 ],
 "metadata": {
  "kernelspec": {
   "display_name": "Python 3",
   "language": "python",
   "name": "python3"
  },
  "language_info": {
   "codemirror_mode": {
    "name": "ipython",
    "version": 3
   },
   "file_extension": ".py",
   "mimetype": "text/x-python",
   "name": "python",
   "nbconvert_exporter": "python",
   "pygments_lexer": "ipython3",
   "version": "3.6.7"
  }
 },
 "nbformat": 4,
 "nbformat_minor": 2
}
